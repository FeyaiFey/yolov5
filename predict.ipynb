{
 "cells": [
  {
   "cell_type": "code",
   "id": "initial_id",
   "metadata": {
    "collapsed": true
   },
   "source": [
    "import torch\n",
    "import cv2\n",
    "import numpy as np\n",
    "from datasets.image_process import resize_image,cv_show\n",
    "from datasets.pdf_to_img import convert_pdf_to_image"
   ],
   "outputs": [],
   "execution_count": null
  },
  {
   "metadata": {},
   "cell_type": "code",
   "source": [
    "def get_opencv_image(file_path):\n",
    "    if file_path.endswith('.pdf') or file_path.endswith('.PDF'):\n",
    "        print(\"检测到文件为pdf类型\")\n",
    "        try:\n",
    "            image = convert_pdf_to_image(file_path)\n",
    "        except:\n",
    "            print(\"图像转换失败\")\n",
    "            return None\n",
    "        return cv2.cvtColor(np.array(image), cv2.COLOR_BGR2RGB)\n",
    "    elif file_path.endswith('.jpg') or file_path.endswith('.JPG'):\n",
    "        return cv2.imread(file_path)"
   ],
   "id": "9c2de7afe1c542d",
   "outputs": [],
   "execution_count": null
  },
  {
   "metadata": {},
   "cell_type": "code",
   "source": [
    "def load_model(model_path):\n",
    "    model = torch.hub.load(r'D:/PythonProject/yolov5', 'custom', path=model_path, force_reload=True,source='local')\n",
    "    return model"
   ],
   "id": "81df29cf6b0fdb27",
   "outputs": [],
   "execution_count": null
  },
  {
   "metadata": {},
   "cell_type": "code",
   "source": "model = load_model('runs/train/exp10/weights/last.pt')",
   "id": "8336d12cb461bc25",
   "outputs": [],
   "execution_count": null
  },
  {
   "metadata": {},
   "cell_type": "code",
   "source": [
    "def predict(file_path):\n",
    "    img = get_opencv_image(file_path)\n",
    "    img_copy = img.copy()\n",
    "    img_copy = cv2.cvtColor(img_copy, cv2.COLOR_BGR2RGB)\n",
    "    results = model(img_copy)\n",
    "    print(results)\n",
    "    for pred in results.pred[0]:\n",
    "        x1, y1, x2, y2, conf, cls = pred  # 提取边界框坐标和置信度\n",
    "        # 绘制边界框，但不显示类别标签\n",
    "        cv2.rectangle(img, (int(x1), int(y1)), (int(x2), int(y2)), (255, 0, 0), 2)\n",
    "    img = resize_image(img,width=800)\n",
    "    cv_show('view',img)"
   ],
   "id": "146a81c102fa0f90",
   "outputs": [],
   "execution_count": null
  },
  {
   "metadata": {},
   "cell_type": "code",
   "source": "predict(r'\\\\fanlm\\生产共享\\发票登记\\电子发票\\诹外购发票\\2024-06-27-24312000000190820926.pdf')",
   "id": "c9e3fd7e88c67fc8",
   "outputs": [],
   "execution_count": null
  },
  {
   "metadata": {},
   "cell_type": "code",
   "source": "",
   "id": "57edbcf5f2436626",
   "outputs": [],
   "execution_count": null
  }
 ],
 "metadata": {
  "kernelspec": {
   "display_name": "Python 3",
   "language": "python",
   "name": "python3"
  },
  "language_info": {
   "codemirror_mode": {
    "name": "ipython",
    "version": 2
   },
   "file_extension": ".py",
   "mimetype": "text/x-python",
   "name": "python",
   "nbconvert_exporter": "python",
   "pygments_lexer": "ipython2",
   "version": "2.7.6"
  }
 },
 "nbformat": 4,
 "nbformat_minor": 5
}
